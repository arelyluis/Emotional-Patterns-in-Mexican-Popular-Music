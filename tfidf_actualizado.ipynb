{
  "nbformat": 4,
  "nbformat_minor": 0,
  "metadata": {
    "colab": {
      "provenance": []
    },
    "kernelspec": {
      "name": "python3",
      "display_name": "Python 3"
    },
    "language_info": {
      "name": "python"
    }
  },
  "cells": [
    {
      "cell_type": "code",
      "execution_count": 2,
      "metadata": {
        "id": "ddcdvvn84V_j"
      },
      "outputs": [],
      "source": [
        "# importar librerias necesarias.\n",
        "\n",
        "import pandas as pd\n",
        "from sklearn.feature_extraction.text import TfidfVectorizer\n",
        "from nltk.corpus import stopwords\n",
        "import nltk"
      ]
    },
    {
      "cell_type": "code",
      "source": [
        "df = pd.read_csv('corpus.csv')"
      ],
      "metadata": {
        "id": "_FzqizIC4cxl"
      },
      "execution_count": 3,
      "outputs": []
    },
    {
      "cell_type": "code",
      "source": [
        "# Eliminar las stopwords\n",
        "nltk.download('stopwords')\n",
        "stop_words_es = stopwords.words('spanish')"
      ],
      "metadata": {
        "colab": {
          "base_uri": "https://localhost:8080/"
        },
        "id": "TCh2sMSD5zJ8",
        "outputId": "3aa8aea3-e526-4dc4-fd3b-462d2b86b2eb"
      },
      "execution_count": 4,
      "outputs": [
        {
          "output_type": "stream",
          "name": "stderr",
          "text": [
            "[nltk_data] Downloading package stopwords to /root/nltk_data...\n",
            "[nltk_data]   Package stopwords is already up-to-date!\n"
          ]
        }
      ]
    },
    {
      "cell_type": "code",
      "source": [
        "#len(stop_words_es)"
      ],
      "metadata": {
        "id": "NF76FXerUkdc"
      },
      "execution_count": 5,
      "outputs": []
    },
    {
      "cell_type": "code",
      "source": [
        "# Crear documentos por década\n",
        "\n",
        "df_por_decada = df.groupby('Decade')['Lyrics'].apply(lambda textos: ' '.join(textos)).reset_index()"
      ],
      "metadata": {
        "id": "Nvyi7o_O5oWL"
      },
      "execution_count": 6,
      "outputs": []
    },
    {
      "cell_type": "code",
      "source": [
        "#df_por_decada.to_csv('corpus_por_decada.csv', index=False)"
      ],
      "metadata": {
        "id": "x_VZye9tV2TX"
      },
      "execution_count": 7,
      "outputs": []
    },
    {
      "cell_type": "code",
      "source": [
        "vectorizador = TfidfVectorizer(stop_words=stop_words_es)"
      ],
      "metadata": {
        "id": "-wwI5FBaV3Fh"
      },
      "execution_count": 8,
      "outputs": []
    },
    {
      "cell_type": "code",
      "source": [
        "tfidf_matrix = vectorizador.fit_transform(df_por_decada['Lyrics'])"
      ],
      "metadata": {
        "id": "cJVySYIzWQJf"
      },
      "execution_count": 9,
      "outputs": []
    },
    {
      "cell_type": "code",
      "source": [
        "tfidf_matrix.shape"
      ],
      "metadata": {
        "colab": {
          "base_uri": "https://localhost:8080/"
        },
        "id": "5egUfm1Hd4qe",
        "outputId": "60ee301f-a968-49e9-cc32-98616ae27b77"
      },
      "execution_count": 10,
      "outputs": [
        {
          "output_type": "execute_result",
          "data": {
            "text/plain": [
              "(8, 8889)"
            ]
          },
          "metadata": {},
          "execution_count": 10
        }
      ]
    },
    {
      "cell_type": "code",
      "source": [
        "tfidf_df = pd.DataFrame(tfidf_matrix.toarray(), index=df_por_decada['Decade'], columns=vectorizador.get_feature_names_out())"
      ],
      "metadata": {
        "id": "05XWQfm_WTkI"
      },
      "execution_count": 11,
      "outputs": []
    },
    {
      "cell_type": "code",
      "source": [
        "for decada in tfidf_df.index:\n",
        "    print(f\"\\n Década: {decada}\")\n",
        "    top_palabras = tfidf_df.loc[decada].sort_values(ascending=False).head(30)\n",
        "    print(top_palabras)"
      ],
      "metadata": {
        "colab": {
          "base_uri": "https://localhost:8080/"
        },
        "id": "UQ-9fy97bOUD",
        "outputId": "b1d06064-8e66-481b-f5a6-c35babf38091"
      },
      "execution_count": 13,
      "outputs": [
        {
          "output_type": "stream",
          "name": "stdout",
          "text": [
            "\n",
            " Década: 1950\n",
            "amor       0.364076\n",
            "si         0.263853\n",
            "melón      0.220236\n",
            "vida       0.204537\n",
            "corazón    0.190219\n",
            "quiero     0.179992\n",
            "pénjamo    0.153653\n",
            "ojos       0.143176\n",
            "aquí       0.120677\n",
            "ay         0.112495\n",
            "usted      0.109741\n",
            "aunque     0.104314\n",
            "oh         0.100223\n",
            "tan        0.094087\n",
            "ufemia     0.092192\n",
            "noche      0.087951\n",
            "dios       0.081815\n",
            "cien       0.077943\n",
            "pa         0.077733\n",
            "ser        0.077724\n",
            "vez        0.077724\n",
            "feliz      0.075679\n",
            "vivir      0.075447\n",
            "alma       0.073633\n",
            "mas        0.070875\n",
            "seras      0.068679\n",
            "podre      0.068679\n",
            "pues       0.066302\n",
            "nadie      0.063406\n",
            "sabrás     0.063243\n",
            "Name: 1950, dtype: float64\n",
            "\n",
            " Década: 1960\n",
            "amor            0.396376\n",
            "ven             0.286851\n",
            "si              0.239912\n",
            "ay              0.194711\n",
            "pollera         0.182839\n",
            "oh              0.182542\n",
            "allá            0.158804\n",
            "vida            0.144295\n",
            "vuelve          0.118218\n",
            "calienta        0.117540\n",
            "yolanda         0.113186\n",
            "azúcar          0.110414\n",
            "lupe            0.104480\n",
            "quiero          0.100833\n",
            "saben           0.100179\n",
            "corazón         0.095617\n",
            "pa              0.093276\n",
            "colorá          0.091420\n",
            "ser             0.090402\n",
            "perteneciste    0.087066\n",
            "popotitos       0.087066\n",
            "sol             0.081709\n",
            "ladronzuelo     0.078360\n",
            "boa             0.078360\n",
            "nunca           0.073017\n",
            "nic             0.069653\n",
            "vi              0.069540\n",
            "sólo            0.068014\n",
            "ca              0.066114\n",
            "matón           0.065300\n",
            "Name: 1960, dtype: float64\n",
            "\n",
            " Década: 1970\n",
            "amor          0.413244\n",
            "ma            0.383696\n",
            "si            0.287412\n",
            "siempre       0.213057\n",
            "quiero        0.158720\n",
            "señor         0.156756\n",
            "baker         0.143224\n",
            "vida          0.128692\n",
            "corazón       0.125832\n",
            "solo          0.104383\n",
            "sé            0.104383\n",
            "vez           0.084365\n",
            "nunca         0.081505\n",
            "espera        0.078318\n",
            "nacido        0.075095\n",
            "ser           0.074355\n",
            "sulibeyan     0.071612\n",
            "perjúmenes    0.071612\n",
            "día           0.070066\n",
            "hoy           0.070066\n",
            "naciste       0.068032\n",
            "bien          0.067206\n",
            "sueños        0.067130\n",
            "vivir         0.067130\n",
            "agradezco     0.066018\n",
            "vas           0.065776\n",
            "voy           0.065776\n",
            "así           0.064346\n",
            "realmente     0.061301\n",
            "alacrán       0.060870\n",
            "Name: 1970, dtype: float64\n",
            "\n",
            " Década: 1980\n",
            "amor         0.418758\n",
            "acelerar     0.274955\n",
            "si           0.209917\n",
            "noa          0.204868\n",
            "tímido       0.203324\n",
            "quiero       0.188387\n",
            "amo          0.163648\n",
            "oh           0.160398\n",
            "perdóname    0.142220\n",
            "uoh          0.141439\n",
            "corazón      0.139945\n",
            "cuándo       0.128194\n",
            "celos        0.125142\n",
            "controles    0.123999\n",
            "nunca        0.108726\n",
            "dime         0.105890\n",
            "solo         0.105497\n",
            "querida      0.088881\n",
            "siempre      0.088273\n",
            "sé           0.087196\n",
            "llamaba      0.081878\n",
            "bazar        0.080869\n",
            "ven          0.078584\n",
            "voy          0.075355\n",
            "ahora        0.075355\n",
            "vez          0.073202\n",
            "juro         0.072125\n",
            "mismo        0.071049\n",
            "martha       0.070087\n",
            "mintió       0.070087\n",
            "Name: 1980, dtype: float64\n",
            "\n",
            " Década: 1990\n",
            "amor       0.373947\n",
            "si         0.283057\n",
            "muévelo    0.190742\n",
            "quiero     0.172691\n",
            "solo       0.168795\n",
            "oh         0.158408\n",
            "vida       0.157109\n",
            "corazón    0.145424\n",
            "sé         0.125947\n",
            "siempre    0.124649\n",
            "quién      0.120231\n",
            "allez      0.117049\n",
            "ay         0.115560\n",
            "vuela      0.113389\n",
            "va         0.112963\n",
            "noche      0.099979\n",
            "vivo       0.092887\n",
            "día        0.092188\n",
            "vas        0.085696\n",
            "quedaré    0.084649\n",
            "puedo      0.084398\n",
            "vivir      0.081276\n",
            "hoy        0.080502\n",
            "she        0.079022\n",
            "veram      0.078033\n",
            "uom        0.078033\n",
            "vez        0.077906\n",
            "cada       0.075309\n",
            "amar       0.075309\n",
            "veleta     0.071530\n",
            "Name: 1990, dtype: float64\n",
            "\n",
            " Década: 2000\n",
            "amor       0.307504\n",
            "boom       0.304401\n",
            "rara       0.261514\n",
            "si         0.257607\n",
            "vida       0.247163\n",
            "quiero     0.235559\n",
            "corazón    0.163615\n",
            "tan        0.134605\n",
            "siento     0.127643\n",
            "siempre    0.117200\n",
            "lara       0.116228\n",
            "amo        0.110251\n",
            "voy        0.106756\n",
            "hoy        0.104435\n",
            "sé         0.098633\n",
            "ay         0.098633\n",
            "menea      0.097408\n",
            "solo       0.096312\n",
            "así        0.095152\n",
            "vez        0.085869\n",
            "uoh        0.084217\n",
            "love       0.079853\n",
            "cómo       0.076586\n",
            "puedo      0.075425\n",
            "cada       0.075425\n",
            "va         0.073105\n",
            "ser        0.070784\n",
            "nunca      0.068463\n",
            "tiempo     0.068463\n",
            "pa         0.063556\n",
            "Name: 2000, dtype: float64\n",
            "\n",
            " Década: 2010\n",
            "si         0.374405\n",
            "amor       0.279162\n",
            "quiero     0.203624\n",
            "oh         0.190487\n",
            "runa       0.183670\n",
            "picky      0.140145\n",
            "pa         0.139501\n",
            "vida       0.123707\n",
            "solo       0.122612\n",
            "yeah       0.113859\n",
            "voy        0.112759\n",
            "corazón    0.112759\n",
            "siempre    0.112759\n",
            "bésame     0.111021\n",
            "conmigo    0.101812\n",
            "ganas      0.097261\n",
            "gusta      0.096672\n",
            "tan        0.095243\n",
            "beso       0.095243\n",
            "vez        0.093054\n",
            "así        0.088675\n",
            "contigo    0.088675\n",
            "hoy        0.088675\n",
            "nadie      0.087580\n",
            "sé         0.085391\n",
            "aquí       0.084296\n",
            "ahora      0.084296\n",
            "puedo      0.079917\n",
            "really     0.078114\n",
            "puro       0.076932\n",
            "Name: 2010, dtype: float64\n",
            "\n",
            " Década: 2020\n",
            "pa         0.334980\n",
            "pum        0.294286\n",
            "si         0.240921\n",
            "you        0.235373\n",
            "oh         0.182160\n",
            "yeah       0.177562\n",
            "quiero     0.149841\n",
            "one        0.135649\n",
            "baby       0.133016\n",
            "ll         0.122374\n",
            "your       0.117054\n",
            "na         0.111733\n",
            "day        0.111733\n",
            "ay         0.111646\n",
            "ey         0.107363\n",
            "to         0.090846\n",
            "bote       0.088286\n",
            "loque      0.088286\n",
            "eh         0.088235\n",
            "sé         0.088142\n",
            "bien       0.088142\n",
            "ahora      0.085204\n",
            "ve         0.084558\n",
            "again      0.080929\n",
            "amor       0.079328\n",
            "bebé       0.078458\n",
            "the        0.074640\n",
            "mami       0.074640\n",
            "siempre    0.070514\n",
            "know       0.069168\n",
            "Name: 2020, dtype: float64\n"
          ]
        }
      ]
    },
    {
      "cell_type": "code",
      "source": [],
      "metadata": {
        "id": "xS3Se4xXmLXm"
      },
      "execution_count": null,
      "outputs": []
    }
  ]
}